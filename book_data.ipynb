{
  "nbformat": 4,
  "nbformat_minor": 0,
  "metadata": {
    "colab": {
      "provenance": [],
      "authorship_tag": "ABX9TyNQAhxn7Tnx0zRdXEMU18yK",
      "include_colab_link": true
    },
    "kernelspec": {
      "name": "python3",
      "display_name": "Python 3"
    },
    "language_info": {
      "name": "python"
    }
  },
  "cells": [
    {
      "cell_type": "markdown",
      "metadata": {
        "id": "view-in-github",
        "colab_type": "text"
      },
      "source": [
        "<a href=\"https://colab.research.google.com/github/Alessia8857/-/blob/main/book_data.ipynb\" target=\"_parent\"><img src=\"https://colab.research.google.com/assets/colab-badge.svg\" alt=\"Open In Colab\"/></a>"
      ]
    },
    {
      "cell_type": "code",
      "execution_count": 2,
      "metadata": {
        "id": "Og1PozEDzfZ9"
      },
      "outputs": [],
      "source": [
        "import requests\n",
        "from bs4 import BeautifulSoup\n",
        "import urllib.parse\n",
        "from datetime import datetime, time, timedelta\n",
        "import time\n",
        "import re\n",
        "import json"
      ]
    },
    {
      "cell_type": "code",
      "source": [
        "for i in range (1,4):\n",
        "   url =  f'http://books.toscrape.com/catalogue/page-{i}.html'\n",
        "   print(url)\n",
        "response = requests.get(url, headers = {'User-Agent' : 'Mozilla/5.0 (Windows NT 10.0; Win64; x64) AppleWebKit/537.36 (KHTML, like Gecko) Chrome/125.0.0.0 Safari/537.36'})"
      ],
      "metadata": {
        "colab": {
          "base_uri": "https://localhost:8080/"
        },
        "id": "YefNE6G0z3QD",
        "outputId": "b5f962fc-9fb0-49e3-c892-67e53cdbdc31"
      },
      "execution_count": 3,
      "outputs": [
        {
          "output_type": "stream",
          "name": "stdout",
          "text": [
            "http://books.toscrape.com/catalogue/page-1.html\n",
            "http://books.toscrape.com/catalogue/page-2.html\n",
            "http://books.toscrape.com/catalogue/page-3.html\n"
          ]
        }
      ]
    },
    {
      "cell_type": "code",
      "source": [
        "soup = BeautifulSoup(response.content, 'html.parser')"
      ],
      "metadata": {
        "id": "LFuhuy4Y4owe"
      },
      "execution_count": 4,
      "outputs": []
    },
    {
      "cell_type": "code",
      "source": [
        "release_links = []\n",
        "for link in soup.find_all('li', ('class', 'col-xs-6 col-sm-4 col-md-3 col-lg-3')):\n",
        "    release_links.append(link.find('a').get('href'))\n"
      ],
      "metadata": {
        "id": "NW4AmYL64q8r"
      },
      "execution_count": 28,
      "outputs": []
    },
    {
      "cell_type": "code",
      "source": [
        "url_joined = []\n",
        "for link in release_links:\n",
        "  url_joined.append(urllib.parse.urljoin('http://books.toscrape.com/', link))"
      ],
      "metadata": {
        "id": "Zh_lPEMC-hzw"
      },
      "execution_count": 29,
      "outputs": []
    },
    {
      "cell_type": "code",
      "source": [
        "data = []\n",
        "for url in url_joined:\n",
        "    response = requests.get(url, headers = {'User-Agent' : 'Mozilla/5.0 (Windows NT 10.0; Win64; x64) AppleWebKit/537.36 (KHTML, like Gecko) Chrome/125.0.0.0 Safari/537.36'})\n",
        "    soup = BeautifulSoup(response.content, 'html.parser')\n",
        "    table = soup.find('div', {'class': 'row'})\n",
        "    rows = soup.find_all('div', {'class': 'col-xs-6 col-sm-4 col-md-3 col-lg-3'})\n",
        "row_data={}\n",
        "for row in rows:\n",
        "        key = row.find('product_pod').text.strip()\n",
        "        value = row.find_all('product_pod')[1].text.strip()\n",
        "        if key == 'product_price':\n",
        "            value =  value\n",
        "        elif key == 'instock availability':\n",
        "            value = value\n",
        "\n",
        "\n",
        "        row_data[key] = value\n",
        "\n",
        "data.append(row_data)\n",
        "time.sleep(10)\n",
        "\n",
        "print(row_data)\n"
      ],
      "metadata": {
        "id": "oRY8-xVXsnVU",
        "colab": {
          "base_uri": "https://localhost:8080/"
        },
        "outputId": "40749145-073a-45d6-9a68-1b0ef6eea125"
      },
      "execution_count": 42,
      "outputs": [
        {
          "output_type": "stream",
          "name": "stdout",
          "text": [
            "{}\n"
          ]
        }
      ]
    },
    {
      "cell_type": "code",
      "source": [
        "with open('boook_data.json', 'w') as f:\n",
        "    json.dump(data, f)"
      ],
      "metadata": {
        "id": "Q_gV10KrZrmC"
      },
      "execution_count": 44,
      "outputs": []
    }
  ]
}